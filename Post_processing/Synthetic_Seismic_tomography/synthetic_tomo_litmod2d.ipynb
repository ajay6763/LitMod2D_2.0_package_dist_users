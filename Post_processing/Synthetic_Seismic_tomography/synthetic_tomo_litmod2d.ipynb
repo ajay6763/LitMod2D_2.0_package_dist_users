{
 "cells": [
  {
   "cell_type": "code",
   "execution_count": 2,
   "metadata": {},
   "outputs": [],
   "source": [
    "import numpy as np\n",
    "import matplotlib.pyplot as plt"
   ]
  },
  {
   "cell_type": "code",
   "execution_count": 3,
   "metadata": {},
   "outputs": [],
   "source": [
    "litmod_vel = np.loadtxt('./post_processing_output.dat',usecols=[0,1,4,5])\n",
    "litmod_ref = np.loadtxt('./LitMod2D_Ref_Model_for_Syn_tomo.dat',usecols=[0,2,3])\n",
    "profile_len = int(np.max(litmod_vel[:,0]))\n",
    "profile_reso = 5"
   ]
  },
  {
   "cell_type": "code",
   "execution_count": 4,
   "metadata": {},
   "outputs": [
    {
     "data": {
      "text/plain": [
       "array([[ 0.00000e+00,  1.82000e-01,  0.00000e+00,  0.00000e+00],\n",
       "       [ 0.00000e+00, -7.72000e-01,  0.00000e+00,  0.00000e+00],\n",
       "       [ 0.00000e+00, -1.24900e+00,  0.00000e+00,  0.00000e+00],\n",
       "       ...,\n",
       "       [ 6.25000e+02, -3.80899e+02,  8.70700e+00,  4.69500e+00],\n",
       "       [ 6.25000e+02, -3.90449e+02,  8.73100e+00,  4.70500e+00],\n",
       "       [ 6.25000e+02, -4.00000e+02,  8.75900e+00,  4.71900e+00]])"
      ]
     },
     "execution_count": 4,
     "metadata": {},
     "output_type": "execute_result"
    }
   ],
   "source": [
    "litmod_vel"
   ]
  },
  {
   "cell_type": "code",
   "execution_count": 5,
   "metadata": {},
   "outputs": [
    {
     "data": {
      "text/plain": [
       "625.0"
      ]
     },
     "execution_count": 5,
     "metadata": {},
     "output_type": "execute_result"
    }
   ],
   "source": [
    "np.max(litmod_vel[:,0])"
   ]
  },
  {
   "cell_type": "code",
   "execution_count": 6,
   "metadata": {},
   "outputs": [
    {
     "data": {
      "text/plain": [
       "0.0"
      ]
     },
     "execution_count": 6,
     "metadata": {},
     "output_type": "execute_result"
    }
   ],
   "source": [
    "litmod_vel[1,0]-litmod_vel[0,0]"
   ]
  },
  {
   "cell_type": "code",
   "execution_count": 7,
   "metadata": {},
   "outputs": [],
   "source": [
    "profile_column=np.arange(0,profile_len+profile_reso,profile_reso)\n",
    "column_no=len(profile_column)\n",
    "m,n=np.shape(litmod_vel)"
   ]
  },
  {
   "cell_type": "code",
   "execution_count": 8,
   "metadata": {},
   "outputs": [
    {
     "name": "stdout",
     "output_type": "stream",
     "text": [
      "(11970, 1)\n",
      "(11970, 1)\n",
      "(11970, 4)\n"
     ]
    }
   ],
   "source": [
    "new = np.tile(litmod_ref[:,1],column_no)\n",
    "new = np.reshape(new,(-1,column_no))\n",
    "Vp_ref = np.reshape(new,(m,1))\n",
    "new = np.tile(litmod_ref[:,2],column_no)\n",
    "new = np.reshape(new,(-1,column_no))\n",
    "Vs_ref = np.reshape(new,(m,1))\n",
    "\n",
    "print(np.shape(Vp_ref))\n",
    "print(np.shape(Vs_ref))\n",
    "\n",
    "print(np.shape(litmod_vel))"
   ]
  },
  {
   "cell_type": "code",
   "execution_count": 9,
   "metadata": {},
   "outputs": [],
   "source": [
    "vp_per=((litmod_vel[:,2]-Vp_ref)/Vp_ref)*100"
   ]
  },
  {
   "cell_type": "code",
   "execution_count": null,
   "metadata": {},
   "outputs": [
    {
     "data": {
      "text/plain": [
       "<matplotlib.image.AxesImage at 0x7fb098a79eb0>"
      ]
     },
     "execution_count": 10,
     "metadata": {},
     "output_type": "execute_result"
    }
   ],
   "source": [
    "plt.imshow(vp_per)"
   ]
  },
  {
   "cell_type": "code",
   "execution_count": null,
   "metadata": {},
   "outputs": [],
   "source": [
    "plt.show()"
   ]
  },
  {
   "cell_type": "code",
   "execution_count": null,
   "metadata": {},
   "outputs": [],
   "source": []
  }
 ],
 "metadata": {
  "kernelspec": {
   "display_name": "Python 2",
   "language": "python",
   "name": "python2"
  },
  "language_info": {
   "codemirror_mode": {
    "name": "ipython",
    "version": 3
   },
   "file_extension": ".py",
   "mimetype": "text/x-python",
   "name": "python",
   "nbconvert_exporter": "python",
   "pygments_lexer": "ipython3",
   "version": "3.8.5"
  }
 },
 "nbformat": 4,
 "nbformat_minor": 4
}
